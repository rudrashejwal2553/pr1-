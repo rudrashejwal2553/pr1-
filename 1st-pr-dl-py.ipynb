import numpy as np
1. Tensorflow

import tensorflow as tf

print(tf.__version__)
2.10.0

2. Keras

from keras import datasets
# Load MNIST datasets from keras
(train_images, train_labels), (test_images, test_labels) = datasets.mnist.load_data()

train_images.shape
(60000, 28, 28)

test_images.shape
(10000, 28, 28)

3. Theano

!pip install Theano

import theano.tensor as T
from theano import function

# Declaring 2 variables
x = T.dscalar('x')
y = T.dscalar('y')

# Summing up the 2 numbers
z = x + y

!pip3 install torch

import torch
import torch.nn as nn

print(torch.__version__)
1.12.1+cu102

torch.cuda.is_available()
False
